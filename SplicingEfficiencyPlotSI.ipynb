{
 "cells": [
  {
   "cell_type": "code",
   "execution_count": 1,
   "id": "ecec891c-bf54-4322-9d77-1b8989881bcd",
   "metadata": {},
   "outputs": [],
   "source": [
    "import matplotlib.pyplot as plt\n",
    "import numpy as np\n",
    "import math\n",
    "\n",
    "import pandas as pd\n",
    "from pathlib import Path\n",
    "from scipy import stats\n",
    "import statsmodels.api as sm\n",
    "import statsmodels.formula.api as smf\n",
    "import statsmodels\n",
    "import matplotlib.patches as mpatches\n",
    "from matplotlib.lines import Line2D\n",
    "import matplotlib as mpl\n",
    "from scipy import stats\n",
    "\n",
    "import re"
   ]
  },
  {
   "cell_type": "code",
   "execution_count": 2,
   "id": "ddbf631b-585c-4974-b46a-3c581e18bdab",
   "metadata": {},
   "outputs": [],
   "source": [
    "def get_intron_size(starts, ends, strand):\n",
    "        intron_len = 0\n",
    "        if len(ends) == 1:\n",
    "            end = int(ends[0])\n",
    "            if strand == \"+\":\n",
    "                return end - start\n",
    "            else: \n",
    "                return start - end\n",
    "        #end = [int(x) for x in ends]\n",
    "        if strand == \"+\":\n",
    "            return max([int(x) - start  for x in ends])\n",
    "        else:\n",
    "            return max([start - int(x)  for x in ends])"
   ]
  },
  {
   "cell_type": "code",
   "execution_count": 3,
   "id": "96521ebc-a026-4177-a147-4a27937c9303",
   "metadata": {
    "tags": []
   },
   "outputs": [],
   "source": [
    "def parse_sdFile_getdico_ratio(list_files):\n",
    "    \n",
    "    dico = {}\n",
    "    \n",
    "    for file in list_files:\n",
    "    \n",
    "        with open(file) as fi:\n",
    "            for i in range(3):\n",
    "                fi.readline()\n",
    "            \n",
    "            for l in fi:\n",
    "                spt = l.strip().split('\\t')\n",
    "                if spt[5] == 'FBgn0267489':\n",
    "                    continue\n",
    "                ids = \"_\".join(spt[0:4])\n",
    "                \n",
    "                if ids not in dico:\n",
    "                    dico[ids] = [int(spt[6]), int(spt[7]) ]# +  int(spt[8])]\n",
    "                else:\n",
    "                    dico[ids][0] += int(spt[6])\n",
    "                    dico[ids][1] += int(spt[7]) # + int(spt[8])\n",
    "    \n",
    "    return dico"
   ]
  },
  {
   "cell_type": "code",
   "execution_count": 4,
   "id": "12e0ffb0-f660-41f1-8045-fef8fdb999f9",
   "metadata": {
    "tags": []
   },
   "outputs": [],
   "source": [
    "omnisplice_out_dir = Path(\"<Path to omnisplice (run with annotated Y genes gtf only) with sd file>\")\n",
    "\n",
    "dico_h = parse_sdFile_getdico_ratio(omnisplice_out_dir.glob(\"trimmed_sim_mau*.sd\"))\n",
    "dico_p = parse_sdFile_getdico_ratio(omnisplice_out_dir.glob(\"trimmed_mau*.sd\"))"
   ]
  },
  {
   "cell_type": "code",
   "execution_count": 5,
   "id": "bb9c01cf-1e9e-43fd-a075-ed68d4ee2c2d",
   "metadata": {
    "tags": []
   },
   "outputs": [],
   "source": [
    "reg = re.compile(\"(.*)_(\\d+)_(\\d+)_([\\+|\\-])$\")"
   ]
  },
  {
   "cell_type": "code",
   "execution_count": 6,
   "id": "07c7788c-9bf4-4146-818c-6e879c3d6ccf",
   "metadata": {
    "tags": []
   },
   "outputs": [],
   "source": [
    "ye = []\n",
    "yl = []\n",
    "auto_e = []\n",
    "auto_l = []\n",
    "\n",
    "for k, v in dico_h.items():\n",
    "    try:\n",
    "        m = reg.search(k)\n",
    "        chr_ = m.group(1)\n",
    "        start = m.group(2)\n",
    "        end = m.group(3)\n",
    "        strand = m.group(4)\n",
    "        #(chr_, start, end, strand) = k.split(\"_\")\n",
    "    except:\n",
    "        print(k)\n",
    "        raise\n",
    "    length = int(end) - int(start) if strand == \"+\" else int(start) - int(end)\n",
    "    if v[0] < 30:\n",
    "        continue\n",
    "    r = v[0] / (v[0] + v[1])\n",
    "    r = 100 * (1 - r)\n",
    "    #if \"Y\" in chr_:\n",
    "    ye.append(r)\n",
    "    yl.append(length)\n",
    "\n",
    "\n",
    "for k, v in dico_p.items():\n",
    "    try:\n",
    "        m = reg.search(k)\n",
    "        chr_ = m.group(1)\n",
    "        start = m.group(2)\n",
    "        end = m.group(3)\n",
    "        strand = m.group(4)\n",
    "        #(chr_, start, end, strand) = k.split(\"_\")\n",
    "    except:\n",
    "        print(k)\n",
    "        raise\n",
    "    length = int(end) - int(start) if strand == \"+\" else int(start) - int(end)\n",
    "    if v[0] < 30:\n",
    "        continue\n",
    "    r = v[0] / (v[0] + v[1])\n",
    "    r = 100 * (1 - r)\n",
    "    #if \"Y\" in chr_:\n",
    "    auto_e.append(r)\n",
    "    auto_l.append(length)\n"
   ]
  },
  {
   "cell_type": "code",
   "execution_count": null,
   "id": "97b126e1-c4e2-4425-92e9-7c615fafb64d",
   "metadata": {
    "tags": []
   },
   "outputs": [],
   "source": [
    "\n",
    "\n",
    "auto_l_log = [math.log(i) for i in auto_l ]\n",
    "yl_log = [math.log(i) for i in yl]\n",
    "\n",
    "#print(auto_l_log)\n",
    "xX, xY, yY, yX  = np.array(auto_l_log), np.array(yl_log), np.array(ye), np.array(auto_e)\n",
    "\n",
    "bins_xlog, bins_yX, bins_yY = [], [], []\n",
    "previous_s = 0\n",
    "maxX = max([max(xX), max(xY)])\n",
    "pp = []\n",
    "for i in range(4, int(maxX)+2):\n",
    "    bins_yX.append(yX[(xX>=previous_s) & (xX<i)])\n",
    "    bins_yY.append(yY[(xY>=previous_s) & (xY<i)])\n",
    "    pp.append((previous_s, i))\n",
    "    previous_s = i"
   ]
  },
  {
   "cell_type": "code",
   "execution_count": 10,
   "id": "dc2da248-62f6-4d15-9502-c4a453584545",
   "metadata": {
    "tags": []
   },
   "outputs": [],
   "source": [
    "bins_yX[-2] = np.append(bins_yX[-2], bins_yX[-1])\n",
    "bins_yX = bins_yX[:-1]\n",
    "bins_yY[-2] = np.append(bins_yY[-2], bins_yY[-1])\n",
    "bins_yY = bins_yY[:-1]"
   ]
  },
  {
   "cell_type": "code",
   "execution_count": 11,
   "id": "7d02bf15-b516-4a6e-a98d-16a7a154260d",
   "metadata": {
    "tags": []
   },
   "outputs": [
    {
     "data": {
      "image/png": "[encoded data removed]",
      "text/plain": [
       "<Figure size 640x480 with 1 Axes>"
      ]
     },
     "metadata": {},
     "output_type": "display_data"
    }
   ],
   "source": [
    "plt.boxplot(bins_yX, positions=range(1, len(pp)*2 - 2, 2), notch=True, patch_artist=True,\n",
    "            boxprops=dict(facecolor=\"lightskyblue\", color=\"k\"),\n",
    "            flierprops=dict(color=\"lightskyblue\", markeredgecolor=\"lightskyblue\",alpha=0.4),\n",
    "            medianprops=dict(color=\"black\"),);\n",
    "\n",
    "plt.boxplot(bins_yY, positions=[x + 0.6 for x in range(1, len(pp)*2 - 2, 2)], notch=True,\n",
    "            patch_artist=True,\n",
    "            boxprops=dict(facecolor=\"lightsalmon\", color=\"k\"),\n",
    "            flierprops=dict(color=\"lightsalmon\", markeredgecolor=\"lightsalmon\",alpha=0.4),\n",
    "            medianprops=dict(color=\"black\"),);\n",
    "\n",
    "plt.ylabel(\"Splicing defect %\")\n",
    "plt.xlabel(\"log(intron length)\")\n",
    "\n",
    "\n",
    "handles, labels = plt.gca().get_legend_handles_labels()\n",
    "\n",
    "point = [Line2D([0], [0], label='Pure species', marker='s', markersize=10, \n",
    "         markeredgecolor='k', markerfacecolor='lightskyblue', linestyle=''), \n",
    "        Line2D([0], [0], label='Hybrid', marker='s', markersize=10, \n",
    "         markeredgecolor='k', markerfacecolor='lightsalmon', linestyle='')]\n",
    "\n",
    "handles.extend(point)\n",
    "\n",
    "plt.xticks([x+0.3 for x in range(1, 20, 2)], labels=[\"0-4\",\"4-5\", \"5-6\", \"6-7\", \"7-8\", \"8-9\", \"9-10\", \"10-11\", \"11-12\", \"12-14\"]);\n",
    "plt.gca().set_facecolor(\"whitesmoke\")\n",
    "plt.legend(handles=handles,bbox_to_anchor=(1.05, 1), loc='upper left')\n",
    "mpl.rcParams['axes.spines.right'] = False\n",
    "mpl.rcParams['axes.spines.top'] = False\n",
    "plt.title(\"Splicing defect per intron size for Y chromosome\")\n",
    "plt.show();\n",
    "# uncomment to save\n",
    "#plt.savefig(\"<path to output file>.pdf\", bbox_inches='tight')"
   ]
  },
  {
   "cell_type": "code",
   "execution_count": null,
   "id": "6575c232-4048-45e2-a313-8b63bb575faf",
   "metadata": {},
   "outputs": [],
   "source": [
    "# For the X chromosomes the code is almost the same we need to filter chrX"
   ]
  },
  {
   "cell_type": "code",
   "execution_count": null,
   "id": "01e33884-0ff0-4a51-90f7-f31fb0086323",
   "metadata": {},
   "outputs": [],
   "source": [
    "def parse_sdFile_getdico_ratio(list_files):\n",
    "    \n",
    "    dico = {}\n",
    "    \n",
    "    for file in list_files:\n",
    "    \n",
    "        with open(file) as fi:\n",
    "            for i in range(3):\n",
    "                fi.readline()\n",
    "            \n",
    "            for l in fi:\n",
    "                spt = l.strip().split('\\t')\n",
    "                if spt[0] != \"NC_052525.2\": # X chr\n",
    "                    continue\n",
    "                    \n",
    "                if spt[5] == 'FBgn0267489':\n",
    "                    continue\n",
    "                ids = \"_\".join(spt[0:4])\n",
    "                \n",
    "                if ids not in dico:\n",
    "                    dico[ids] = [int(spt[6]), int(spt[7]) ]# +  int(spt[8])]\n",
    "                else:\n",
    "                    dico[ids][0] += int(spt[6])\n",
    "                    dico[ids][1] += int(spt[7]) # + int(spt[8])\n",
    "    \n",
    "    return dico"
   ]
  },
  {
   "cell_type": "code",
   "execution_count": null,
   "id": "7e49f112-2fc6-4c34-9e64-6ab10f85e848",
   "metadata": {},
   "outputs": [],
   "source": [
    "omnisplice_out_dir = Path(\"<Path to omnisplice (run with annotated Y genes gtf only) with sd file>\")\n",
    "\n",
    "dico_h = parse_sdFile_getdico_ratio(omnisplice_out_dir.glob(\"trimmed_sim_mau*.sd\"))\n",
    "dico_p = parse_sdFile_getdico_ratio(omnisplice_out_dir.glob(\"trimmed_mau*.sd\"))"
   ]
  },
  {
   "cell_type": "code",
   "execution_count": null,
   "id": "1676a37e-da73-4efe-a516-6ac270982fec",
   "metadata": {},
   "outputs": [],
   "source": [
    "ye = []\n",
    "yl = []\n",
    "auto_e = []\n",
    "auto_l = []\n",
    "\n",
    "for k, v in dico_h.items():\n",
    "    try:\n",
    "        m = reg.search(k)\n",
    "        chr_ = m.group(1)\n",
    "        start = m.group(2)\n",
    "        end = m.group(3)\n",
    "        strand = m.group(4)\n",
    "        #(chr_, start, end, strand) = k.split(\"_\")\n",
    "    except:\n",
    "        print(k)\n",
    "        raise\n",
    "    length = int(end) - int(start) if strand == \"+\" else int(start) - int(end)\n",
    "    if v[0] < 30:\n",
    "        continue\n",
    "    r = v[0] / (v[0] + v[1])\n",
    "    r = 100 * (1 - r)\n",
    "    #if \"Y\" in chr_:\n",
    "    ye.append(r)\n",
    "    yl.append(length)\n",
    "\n",
    "\n",
    "for k, v in dico_p.items():\n",
    "    try:\n",
    "        m = reg.search(k)\n",
    "        chr_ = m.group(1)\n",
    "        start = m.group(2)\n",
    "        end = m.group(3)\n",
    "        strand = m.group(4)\n",
    "        #(chr_, start, end, strand) = k.split(\"_\")\n",
    "    except:\n",
    "        print(k)\n",
    "        raise\n",
    "    length = int(end) - int(start) if strand == \"+\" else int(start) - int(end)\n",
    "    if v[0] < 30:\n",
    "        continue\n",
    "    r = v[0] / (v[0] + v[1])\n",
    "    r = 100 * (1 - r)\n",
    "    #if \"Y\" in chr_:\n",
    "    auto_e.append(r)\n",
    "    auto_l.append(length)\n"
   ]
  },
  {
   "cell_type": "code",
   "execution_count": null,
   "id": "e53c2064-7110-4b08-af1a-0d4eb848a63c",
   "metadata": {},
   "outputs": [],
   "source": [
    "\n",
    "\n",
    "auto_l_log = [math.log(i) for i in auto_l ]\n",
    "yl_log = [math.log(i) for i in yl]\n",
    "\n",
    "#print(auto_l_log)\n",
    "xX, xY, yY, yX  = np.array(auto_l_log), np.array(yl_log), np.array(ye), np.array(auto_e)\n",
    "\n",
    "bins_xlog, bins_yX, bins_yY = [], [], []\n",
    "previous_s = 0\n",
    "maxX = max([max(xX), max(xY)])\n",
    "pp = []\n",
    "for i in range(4, int(maxX)+2):\n",
    "    bins_yX.append(yX[(xX>=previous_s) & (xX<i)])\n",
    "    bins_yY.append(yY[(xY>=previous_s) & (xY<i)])\n",
    "    pp.append((previous_s, i))\n",
    "    previous_s = i"
   ]
  },
  {
   "cell_type": "code",
   "execution_count": null,
   "id": "8b3360f3-2a06-418a-a55b-8eb1e44e2c0a",
   "metadata": {},
   "outputs": [],
   "source": [
    "plt.boxplot(bins_yX, positions=range(1, len(pp)*2, 2), notch=True, patch_artist=True,\n",
    "            boxprops=dict(facecolor=\"lightskyblue\", color=\"k\"),\n",
    "            flierprops=dict(color=\"lightskyblue\", markeredgecolor=\"lightskyblue\",alpha=0.4),\n",
    "            medianprops=dict(color=\"black\"),);\n",
    "\n",
    "plt.boxplot(bins_yY, positions=[x + 0.6 for x in range(1, len(pp)*2, 2)], notch=True,\n",
    "            patch_artist=True,\n",
    "            boxprops=dict(facecolor=\"lightsalmon\", color=\"k\"),\n",
    "            flierprops=dict(color=\"lightsalmon\", markeredgecolor=\"lightsalmon\",alpha=0.4),\n",
    "            medianprops=dict(color=\"black\"),);\n",
    "\n",
    "plt.ylabel(\"Splicing defect %\")\n",
    "plt.xlabel(\"log(intron length)\")\n",
    "\n",
    "\n",
    "handles, labels = plt.gca().get_legend_handles_labels()\n",
    "\n",
    "point = [Line2D([0], [0], label='Pure species', marker='s', markersize=10, \n",
    "         markeredgecolor='k', markerfacecolor='lightskyblue', linestyle=''), \n",
    "        Line2D([0], [0], label='Hybrid', marker='s', markersize=10, \n",
    "         markeredgecolor='k', markerfacecolor='lightsalmon', linestyle='')]\n",
    "\n",
    "handles.extend(point)\n",
    "\n",
    "\n",
    "plt.xticks([x+0.3 for x in range(1, 18, 2)], labels=[\"0-4\",\"4-5\", \"5-6\", \"6-7\", \"7-8\", \"8-9\", \"9-10\", \"10-11\", \"11-12\"]);\n",
    "plt.gca().set_facecolor(\"whitesmoke\")\n",
    "plt.legend(handles=handles,bbox_to_anchor=(1.05, 1), loc='upper left')\n",
    "mpl.rcParams['axes.spines.right'] = False\n",
    "mpl.rcParams['axes.spines.top'] = False\n",
    "plt.title(\"Splicing defect per intron size for X chromosome\")\n",
    "plt.show();\n",
    "# uncomment to save\n",
    "#plt.savefig(\"<path to output file>.pdf\", bbox_inches='tight')"
   ]
  },
  {
   "cell_type": "code",
   "execution_count": null,
   "id": "cc6eb821-dd85-46c0-9083-1fd50b9a8ed1",
   "metadata": {},
   "outputs": [],
   "source": []
  },
  {
   "cell_type": "code",
   "execution_count": null,
   "id": "978e568d-dbf0-4bdd-8268-964d1abc0596",
   "metadata": {},
   "outputs": [],
   "source": []
  }
 ],
 "metadata": {
  "kernelspec": {
   "display_name": "Python 3 (ipykernel)",
   "language": "python",
   "name": "python3"
  },
  "language_info": {
   "codemirror_mode": {
    "name": "ipython",
    "version": 3
   },
   "file_extension": ".py",
   "mimetype": "text/x-python",
   "name": "python",
   "nbconvert_exporter": "python",
   "pygments_lexer": "ipython3",
   "version": "3.8.10"
  }
 },
 "nbformat": 4,
 "nbformat_minor": 5
}
